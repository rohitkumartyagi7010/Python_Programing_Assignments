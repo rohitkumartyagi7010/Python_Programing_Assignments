{
 "cells": [
  {
   "cell_type": "markdown",
   "metadata": {},
   "source": [
    "1.\tWrite a Python Program to Find LCM?"
   ]
  },
  {
   "cell_type": "code",
   "execution_count": 16,
   "metadata": {},
   "outputs": [
    {
     "data": {
      "text/plain": [
       "'LCM is 108'"
      ]
     },
     "execution_count": 16,
     "metadata": {},
     "output_type": "execute_result"
    }
   ],
   "source": [
    "class LCM:\n",
    "    \n",
    "    def __init__(self):\n",
    "        pass\n",
    "        \n",
    "        \n",
    "        \n",
    "    def calculate_Lcm(self,num1,num2):\n",
    "        \n",
    "        if num1>num2:\n",
    "            \n",
    "            greater =num1\n",
    "        else:\n",
    "            \n",
    "            greater = num2\n",
    "            \n",
    "        \n",
    "        \n",
    "        while (True):\n",
    "            \n",
    "            if(greater%num1==0) and (greater%num2==0):\n",
    "                lcm=greater\n",
    "            \n",
    "                break\n",
    "            \n",
    "            greater +=1\n",
    "            \n",
    "            \n",
    "        return f\"LCM is {lcm}\"\n",
    "            \n",
    "            \n",
    "            \n",
    "        \n",
    "        \n",
    "Object = LCM()       \n",
    "\n",
    "Object.calculate_Lcm(12,54)"
   ]
  },
  {
   "cell_type": "markdown",
   "metadata": {},
   "source": [
    "2.\tWrite a Python Program to Find HCF?"
   ]
  },
  {
   "cell_type": "code",
   "execution_count": 25,
   "metadata": {},
   "outputs": [
    {
     "data": {
      "text/plain": [
       "'HCF is 6'"
      ]
     },
     "execution_count": 25,
     "metadata": {},
     "output_type": "execute_result"
    }
   ],
   "source": [
    "class calculate_HCF:\n",
    "    \n",
    "    def __init__(self,Number1,Number2):\n",
    "        \n",
    "        self.Number1 = Number1\n",
    "        self.Number2 = Number2\n",
    "        \n",
    "    def HCF(self):\n",
    "        \n",
    "        if self.Number1>self.Number2:\n",
    "            \n",
    "            smaller = self.Number2\n",
    "            \n",
    "        else:\n",
    "            \n",
    "            smaller = self.Number1\n",
    "            \n",
    "        for i in range(1,smaller+1):\n",
    "            \n",
    "            if (self.Number1%i == 0) and (self.Number2%i==0):\n",
    "                \n",
    "                hcf=i\n",
    "                \n",
    "        return f\"HCF is {hcf}\"        \n",
    "            \n",
    "            \n",
    "        \n",
    "        \n",
    "        \n",
    "Object = calculate_HCF(54,24)    \n",
    "\n",
    "Object.HCF()"
   ]
  },
  {
   "cell_type": "markdown",
   "metadata": {},
   "source": [
    "3.\tWrite a Python Program to Convert Decimal to Binary, Octal and Hexadecimal?"
   ]
  },
  {
   "cell_type": "code",
   "execution_count": 28,
   "metadata": {},
   "outputs": [
    {
     "name": "stdout",
     "output_type": "stream",
     "text": [
      "0b10100 in binary.\n",
      "0o24 in octal.\n",
      "0x14 in hexadecimal.\n"
     ]
    }
   ],
   "source": [
    "decimal_num = 20\n",
    "\n",
    "print(bin(decimal_num), \"in binary.\")\n",
    "print(oct(decimal_num), \"in octal.\")\n",
    "print(hex(decimal_num), \"in hexadecimal.\")"
   ]
  },
  {
   "cell_type": "markdown",
   "metadata": {},
   "source": [
    "4.\tWrite a Python Program To Find ASCII value of a character?"
   ]
  },
  {
   "cell_type": "code",
   "execution_count": 34,
   "metadata": {},
   "outputs": [
    {
     "name": "stdout",
     "output_type": "stream",
     "text": [
      "65\n",
      "66\n",
      "A\n"
     ]
    }
   ],
   "source": [
    "# ASCII stands for American Standard Code for Information Interchange.\n",
    "print(ord(\"A\"))\n",
    "\n",
    "print(ord(\"B\"))\n",
    "\n",
    "print(chr(65)) # even we can get ascii value from int number"
   ]
  },
  {
   "cell_type": "markdown",
   "metadata": {},
   "source": [
    "5.\tWrite a Python Program to Make a Simple Calculator with 4 basic mathematical operations?"
   ]
  },
  {
   "cell_type": "code",
   "execution_count": 42,
   "metadata": {},
   "outputs": [
    {
     "data": {
      "text/plain": [
       "'Mulliplication is 240000'"
      ]
     },
     "execution_count": 42,
     "metadata": {},
     "output_type": "execute_result"
    }
   ],
   "source": [
    "class Calculater:\n",
    "    \n",
    "    def __init__(self,*args):\n",
    "        \n",
    "        self.args = args\n",
    "        \n",
    "    def addition(self):\n",
    "        total=0\n",
    "        \n",
    "        for i in self.args:\n",
    "            \n",
    "            total = total + i\n",
    "        \n",
    "        return f\"Total of all numbers is {total}\"\n",
    "    \n",
    "    \n",
    "    def Multiplication(self):\n",
    "        \n",
    "        multiply = 1\n",
    "        \n",
    "        for i in self.args:\n",
    "            multiply = multiply*i\n",
    "            \n",
    "        return f\"Mulliplication is {multiply}\"    \n",
    "        \n",
    "        \n",
    "Object = Calculater(10,20,30,40)     \n",
    "\n",
    "Object.addition()\n",
    "Object.Multiplication()"
   ]
  }
 ],
 "metadata": {
  "kernelspec": {
   "display_name": "Python 3",
   "language": "python",
   "name": "python3"
  },
  "language_info": {
   "codemirror_mode": {
    "name": "ipython",
    "version": 3
   },
   "file_extension": ".py",
   "mimetype": "text/x-python",
   "name": "python",
   "nbconvert_exporter": "python",
   "pygments_lexer": "ipython3",
   "version": "3.8.3"
  }
 },
 "nbformat": 4,
 "nbformat_minor": 4
}

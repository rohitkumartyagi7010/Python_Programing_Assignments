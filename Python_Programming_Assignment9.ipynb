{
 "cells": [
  {
   "cell_type": "markdown",
   "metadata": {},
   "source": [
    "1.\tWrite a Python program to check if the given number is a Disarium Number?"
   ]
  },
  {
   "cell_type": "code",
   "execution_count": 1,
   "metadata": {},
   "outputs": [
    {
     "name": "stdout",
     "output_type": "stream",
     "text": [
      "Disarium Number\n",
      "Not a Disarium Number\n"
     ]
    }
   ],
   "source": [
    "def Disarium_Number(number):\n",
    "\n",
    "\n",
    "    j=1\n",
    "    result = 0\n",
    "    for i in str(number):\n",
    "\n",
    "        result = result + (int(i))**j\n",
    "\n",
    "        j+=1\n",
    "\n",
    "    if result == number:\n",
    "        return \"Disarium Number\"\n",
    "\n",
    "    else:\n",
    "\n",
    "        return \"Not a Disarium Number\"\n",
    "        \n",
    "\n",
    "print(Disarium_Number(175))   \n",
    "\n",
    "print(Disarium_Number(243))"
   ]
  },
  {
   "cell_type": "code",
   "execution_count": 2,
   "metadata": {},
   "outputs": [
    {
     "name": "stdout",
     "output_type": "stream",
     "text": [
      "Length of numbr is 3\n",
      "Yes Disarium Number\n"
     ]
    }
   ],
   "source": [
    "# first we calculate the length of the number\n",
    "\n",
    "num=175\n",
    "\n",
    "length1= 0\n",
    "\n",
    "while (num!=0):\n",
    "    \n",
    "    num=num//10\n",
    "    \n",
    "    length1= length1+1\n",
    "print(\"Length of numbr is {}\".format(length1)) \n",
    "\n",
    "# now we will check whether number is Disarium Number or not\n",
    "\n",
    "rem=0\n",
    "Sum=0\n",
    "\n",
    "Number = num # creating a copy of number to compare in the end with sum\n",
    "\n",
    "while (num>0):\n",
    "    \n",
    "    rem = num %10\n",
    "    Sum = Sum + (rem**length)\n",
    "    \n",
    "    num= num//10\n",
    "    \n",
    "    length = length -1\n",
    "\n",
    "    \n",
    "if Sum == Number:\n",
    "    print(\"Yes Disarium Number\")\n",
    "    \n",
    "else:\n",
    "    \n",
    "    print(\"No Disarium Number\")"
   ]
  },
  {
   "cell_type": "markdown",
   "metadata": {},
   "source": [
    "2.\tWrite a Python program to print all disarium numbers between 1 to 100?"
   ]
  },
  {
   "cell_type": "code",
   "execution_count": 3,
   "metadata": {},
   "outputs": [
    {
     "name": "stdout",
     "output_type": "stream",
     "text": [
      "1 Disarium Number\n",
      "2 Disarium Number\n",
      "3 Disarium Number\n",
      "4 Disarium Number\n",
      "5 Disarium Number\n",
      "6 Disarium Number\n",
      "7 Disarium Number\n",
      "8 Disarium Number\n",
      "9 Disarium Number\n",
      "89 Disarium Number\n"
     ]
    }
   ],
   "source": [
    "def check_disarium_numbers(Range):\n",
    "\n",
    "    for number  in range(1,Range):\n",
    "\n",
    "        j=1\n",
    "        result = 0\n",
    "\n",
    "        for i in str(number):\n",
    "\n",
    "            result = result + (int(i))**j\n",
    "\n",
    "            j+=1\n",
    "\n",
    "        if result == number:\n",
    "            print(f\"{number} Disarium Number\")\n",
    "\n",
    "check_disarium_numbers(100)"
   ]
  },
  {
   "cell_type": "markdown",
   "metadata": {},
   "source": [
    "3.\tWrite a Python program to check if the given number is Happy Number?"
   ]
  },
  {
   "cell_type": "code",
   "execution_count": 4,
   "metadata": {},
   "outputs": [
    {
     "name": "stdout",
     "output_type": "stream",
     "text": [
      "7 is happy number\n"
     ]
    }
   ],
   "source": [
    "My_number = 7\n",
    "\n",
    "Sum = 0\n",
    "\n",
    "My_number1 = My_number\n",
    "\n",
    "\n",
    "\n",
    "while True:\n",
    "    \n",
    "    Sum = 0\n",
    "    \n",
    "    \n",
    "    \n",
    "    for i in str(My_number1):    \n",
    "\n",
    "\n",
    "        Sum = Sum + (int(i)**2)\n",
    "        \n",
    "        \n",
    "    if Sum==1:\n",
    "        \n",
    "        print(f\"{My_number} is happy number\")\n",
    "        \n",
    "        break\n",
    "        \n",
    "    if Sum== 4:     \n",
    "        \n",
    "        print(f\"{My_number} is not happy number\")\n",
    "        \n",
    "        break\n",
    "        \n",
    "    else:\n",
    "        \n",
    "        My_number1 = Sum"
   ]
  },
  {
   "cell_type": "markdown",
   "metadata": {},
   "source": [
    "4.\tWrite a Python program to print all happy numbers between 1 and 100?"
   ]
  },
  {
   "cell_type": "code",
   "execution_count": 6,
   "metadata": {},
   "outputs": [
    {
     "name": "stdout",
     "output_type": "stream",
     "text": [
      "1 is happy number\n",
      "7 is happy number\n",
      "10 is happy number\n",
      "13 is happy number\n",
      "19 is happy number\n",
      "23 is happy number\n",
      "28 is happy number\n",
      "31 is happy number\n",
      "32 is happy number\n",
      "44 is happy number\n",
      "49 is happy number\n",
      "68 is happy number\n",
      "70 is happy number\n",
      "79 is happy number\n",
      "82 is happy number\n",
      "86 is happy number\n",
      "91 is happy number\n",
      "94 is happy number\n",
      "97 is happy number\n",
      "100 is happy number\n"
     ]
    }
   ],
   "source": [
    "for range_number in range(1,101):\n",
    "\n",
    "    My_number = range_number\n",
    "\n",
    "    Sum = 0\n",
    "\n",
    "    My_number1 = My_number\n",
    "\n",
    "\n",
    "\n",
    "    while True:\n",
    "\n",
    "        Sum = 0\n",
    "\n",
    "\n",
    "\n",
    "        for i in str(My_number1):    \n",
    "\n",
    "\n",
    "            Sum = Sum + (int(i)**2)\n",
    "\n",
    "\n",
    "        if Sum==1:\n",
    "\n",
    "            print(f\"{My_number} is happy number\")\n",
    "\n",
    "            break\n",
    "\n",
    "        if Sum== 4:     \n",
    "\n",
    "            \n",
    "\n",
    "            break\n",
    "\n",
    "        else:\n",
    "\n",
    "            My_number1 = Sum"
   ]
  },
  {
   "cell_type": "markdown",
   "metadata": {},
   "source": [
    "5.\tWrite a Python program to determine whether the given number is a Harshad Number?"
   ]
  },
  {
   "cell_type": "code",
   "execution_count": 8,
   "metadata": {},
   "outputs": [
    {
     "name": "stdout",
     "output_type": "stream",
     "text": [
      "1 is a Harshad number\n"
     ]
    }
   ],
   "source": [
    "# positive integer which is divisible by the sum of its digits\n",
    "My_number12 =1\n",
    "mysum= 0\n",
    "for i in str(My_number12):\n",
    "    \n",
    "    mysum= mysum + int(i)\n",
    "    \n",
    "if My_number12%mysum == 0:\n",
    "\n",
    "    print(f\"{My_number12} is a Harshad number\")\n",
    "\n",
    "else:\n",
    "\n",
    "    print(f\"{My_number12} is not a Harshad number\")"
   ]
  },
  {
   "cell_type": "markdown",
   "metadata": {},
   "source": [
    "6.\tWrite a Python program to print all pronic numbers between 1 and 100?"
   ]
  },
  {
   "cell_type": "code",
   "execution_count": 21,
   "metadata": {},
   "outputs": [
    {
     "name": "stdout",
     "output_type": "stream",
     "text": [
      "20 is a pronic number\n"
     ]
    }
   ],
   "source": [
    "number13 =20\n",
    "for i in range(number13):\n",
    "    \n",
    "    if i*(i+1) == number13:\n",
    "        \n",
    "        print(f\"{number13} is a pronic number\")\n",
    "           "
   ]
  },
  {
   "cell_type": "code",
   "execution_count": null,
   "metadata": {},
   "outputs": [],
   "source": []
  }
 ],
 "metadata": {
  "kernelspec": {
   "display_name": "Python 3",
   "language": "python",
   "name": "python3"
  },
  "language_info": {
   "codemirror_mode": {
    "name": "ipython",
    "version": 3
   },
   "file_extension": ".py",
   "mimetype": "text/x-python",
   "name": "python",
   "nbconvert_exporter": "python",
   "pygments_lexer": "ipython3",
   "version": "3.8.3"
  }
 },
 "nbformat": 4,
 "nbformat_minor": 4
}

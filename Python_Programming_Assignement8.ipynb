{
 "cells": [
  {
   "cell_type": "markdown",
   "metadata": {},
   "source": [
    "1.\tWrite a Python Program to Add Two Matrices?"
   ]
  },
  {
   "cell_type": "code",
   "execution_count": 11,
   "metadata": {},
   "outputs": [
    {
     "name": "stdout",
     "output_type": "stream",
     "text": [
      "Addition of Matrices is :  [[10, 10, 10], [10, 10, 10], [10, 10, 10]]\n"
     ]
    }
   ],
   "source": [
    "Matrix1 = [[1,2,3],\n",
    "           [4 ,5,6],\n",
    "           [7 ,8,9]]\n",
    "\n",
    "Matrix2 = [[9,8,7],\n",
    "           [6,5,4],\n",
    "           [3,2,1]]\n",
    "\n",
    "\n",
    "result = [[0,0,0],\n",
    "          [0,0,0],\n",
    "          [0,0,0]]\n",
    " \n",
    "\n",
    "\n",
    "for i in range(len(Matrix1)):\n",
    "    \n",
    "    for j in range(len(Matrix1[i])):\n",
    "        \n",
    "        result[i][j]= Matrix1[i][j]+Matrix2[i][j]\n",
    "    \n",
    "print(\"Addition of Matrices is : \", result)    \n",
    "   \n",
    "    \n",
    "    \n",
    "    "
   ]
  },
  {
   "cell_type": "markdown",
   "metadata": {},
   "source": [
    "2.\tWrite a Python Program to Multiply Two Matrices?"
   ]
  },
  {
   "cell_type": "code",
   "execution_count": 12,
   "metadata": {},
   "outputs": [
    {
     "name": "stdout",
     "output_type": "stream",
     "text": [
      "[114, 160, 60, 27]\n",
      "[74, 97, 73, 14]\n",
      "[119, 157, 112, 23]\n"
     ]
    }
   ],
   "source": [
    "\n",
    "A = [[12, 7, 3],\n",
    "    [4, 5, 6],\n",
    "    [7, 8, 9]]\n",
    " \n",
    "B = [[5, 8, 1, 2],\n",
    "    [6, 7, 3, 0],\n",
    "    [4, 5, 9, 1]]\n",
    "     \n",
    "result = [[0, 0, 0, 0],\n",
    "        [0, 0, 0, 0],\n",
    "        [0, 0, 0, 0]]\n",
    " \n",
    "\n",
    "for i in range(len(A)):\n",
    " \n",
    "    \n",
    "    for j in range(len(B[0])):\n",
    " \n",
    "       \n",
    "        for k in range(len(B)):\n",
    "            result[i][j] += A[i][k] * B[k][j]\n",
    "for r in result:\n",
    "    print(r)"
   ]
  },
  {
   "cell_type": "markdown",
   "metadata": {},
   "source": [
    "3.\tWrite a Python Program to Transpose a Matrix?"
   ]
  },
  {
   "cell_type": "code",
   "execution_count": 31,
   "metadata": {},
   "outputs": [
    {
     "name": "stdout",
     "output_type": "stream",
     "text": [
      "[1, 3, 5]\n",
      "[2, 4, 6]\n"
     ]
    }
   ],
   "source": [
    "m = [[1,2],[3,4],[5,6]]\n",
    "\n",
    "rez = [[m[j][i] for j in range(len(m))] for i in range(len(m[0]))]\n",
    "\n",
    "for row in rez:\n",
    "    print(row)\n",
    "               \n",
    "               \n",
    "               "
   ]
  },
  {
   "cell_type": "markdown",
   "metadata": {},
   "source": [
    "4.\tWrite a Python Program to Sort Words in Alphabetic Order?"
   ]
  },
  {
   "cell_type": "code",
   "execution_count": 54,
   "metadata": {},
   "outputs": [
    {
     "name": "stdout",
     "output_type": "stream",
     "text": [
      "is my name rohit tyagi\n"
     ]
    }
   ],
   "source": [
    "string2 = \"My name is Rohit Tyagi\"\n",
    "\n",
    "words_list = string2.split()\n",
    "#words_list\n",
    "\n",
    "for i in range(len(words_list)):\n",
    "    \n",
    "    words_list[i] = words_list[i].lower()\n",
    "    \n",
    "#words_list  \n",
    "\n",
    "Sorted_list = sorted(words_list)\n",
    "\n",
    "#Sorted_list\n",
    "\n",
    "print(\" \".join(Sorted_list))\n",
    "       \n"
   ]
  },
  {
   "cell_type": "markdown",
   "metadata": {},
   "source": [
    "5.\tWrite a Python Program to Remove Punctuation From a String?"
   ]
  },
  {
   "cell_type": "code",
   "execution_count": 76,
   "metadata": {},
   "outputs": [
    {
     "data": {
      "text/plain": [
       "'My name is Rohit'"
      ]
     },
     "execution_count": 76,
     "metadata": {},
     "output_type": "execute_result"
    }
   ],
   "source": [
    "import string \n",
    "result = string.punctuation \n",
    "\n",
    "string1 = \"My/name/is+Rohit\"\n",
    "\n",
    "for char in string1:\n",
    "    \n",
    "    if char in result:\n",
    "        \n",
    "        string1= string1.replace(char,\" \")\n",
    "        \n",
    "        \n",
    "       \n",
    "    \n",
    "string1        \n",
    "        "
   ]
  }
 ],
 "metadata": {
  "kernelspec": {
   "display_name": "Python 3",
   "language": "python",
   "name": "python3"
  },
  "language_info": {
   "codemirror_mode": {
    "name": "ipython",
    "version": 3
   },
   "file_extension": ".py",
   "mimetype": "text/x-python",
   "name": "python",
   "nbconvert_exporter": "python",
   "pygments_lexer": "ipython3",
   "version": "3.8.3"
  }
 },
 "nbformat": 4,
 "nbformat_minor": 4
}

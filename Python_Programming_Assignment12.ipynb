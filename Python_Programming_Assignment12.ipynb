{
 "cells": [
  {
   "cell_type": "markdown",
   "metadata": {},
   "source": [
    "1.\tWrite a Python program to Extract Unique values dictionary values?"
   ]
  },
  {
   "cell_type": "code",
   "execution_count": 1,
   "metadata": {},
   "outputs": [
    {
     "name": "stdout",
     "output_type": "stream",
     "text": [
      "ROhit\n",
      "12\n",
      "Noida\n"
     ]
    }
   ],
   "source": [
    "Dict = {\"Name\":\"ROhit\",\"Place\":\"Noida\",\"Number\":12, \"Housenumber\":12}\n",
    "\n",
    "Dict_value_set = set()\n",
    "\n",
    "for key,value in Dict.items():\n",
    "    \n",
    "    Dict_value_set.add(value)\n",
    "    \n",
    "for ele in Dict_value_set:\n",
    "    print(ele)\n",
    "    "
   ]
  },
  {
   "cell_type": "markdown",
   "metadata": {},
   "source": [
    "2.\tWrite a Python program to find the sum of all items in a dictionary?\n"
   ]
  },
  {
   "cell_type": "code",
   "execution_count": 2,
   "metadata": {},
   "outputs": [
    {
     "name": "stdout",
     "output_type": "stream",
     "text": [
      "Sum of keys is :  17\n",
      "Sum of value is :  6\n"
     ]
    }
   ],
   "source": [
    "Dict = {12:1,2:2,3:3}\n",
    "Key_Sum =0\n",
    "Value_Sum = 0\n",
    "\n",
    "for key,value in Dict.items():\n",
    "    \n",
    "    Key_Sum=Key_Sum+key\n",
    "    \n",
    "    Value_Sum=Value_Sum+value\n",
    "    \n",
    "\n",
    "print(\"Sum of keys is : \",Key_Sum)\n",
    "print(\"Sum of value is : \",Value_Sum)\n",
    "\n",
    "    \n",
    "    "
   ]
  },
  {
   "cell_type": "markdown",
   "metadata": {},
   "source": [
    "3.\tWrite a Python program to Merging two Dictionaries?"
   ]
  },
  {
   "cell_type": "code",
   "execution_count": 3,
   "metadata": {},
   "outputs": [
    {
     "data": {
      "text/plain": [
       "{12: 1,\n",
       " 2: 2,\n",
       " 3: 3,\n",
       " 'Name': 'ROhit',\n",
       " 'Place': 'Noida',\n",
       " 'Number': 12,\n",
       " 'Housenumber': 12}"
      ]
     },
     "execution_count": 3,
     "metadata": {},
     "output_type": "execute_result"
    }
   ],
   "source": [
    "Dict1={12:1,2:2,3:3}\n",
    "Dict2={\"Name\":\"ROhit\",\"Place\":\"Noida\",\"Number\":12, \"Housenumber\":12}\n",
    "\n",
    "Dict1.update(Dict2) # will merge the data into Dict1\n",
    "\n",
    "Dict1"
   ]
  },
  {
   "cell_type": "code",
   "execution_count": 4,
   "metadata": {},
   "outputs": [
    {
     "data": {
      "text/plain": [
       "{12: 1,\n",
       " 2: 2,\n",
       " 3: 3,\n",
       " 'Name': 'ROhit',\n",
       " 'Place': 'Noida',\n",
       " 'Number': 12,\n",
       " 'Housenumber': 12}"
      ]
     },
     "execution_count": 4,
     "metadata": {},
     "output_type": "execute_result"
    }
   ],
   "source": [
    "# or we can merge into new dictionary\n",
    "\n",
    "Dict3 = {**Dict1,**Dict2}\n",
    "\n",
    "Dict3"
   ]
  },
  {
   "cell_type": "markdown",
   "metadata": {},
   "source": [
    "4.\tWrite a Python program to convert key-values list to flat dictionary?"
   ]
  },
  {
   "cell_type": "code",
   "execution_count": 5,
   "metadata": {},
   "outputs": [
    {
     "data": {
      "text/plain": [
       "{1: 'Jan', 2: 'Feb', 3: 'March'}"
      ]
     },
     "execution_count": 5,
     "metadata": {},
     "output_type": "execute_result"
    }
   ],
   "source": [
    "test_dict = {'month' : [1, 2, 3],\n",
    "             'name' : ['Jan', 'Feb', 'March']}\n",
    "\n",
    "dict(zip(test_dict[\"month\"],test_dict[\"name\"]))"
   ]
  },
  {
   "cell_type": "markdown",
   "metadata": {},
   "source": [
    "5.\tWrite a Python program to insertion at the beginning in OrderedDict?"
   ]
  },
  {
   "cell_type": "code",
   "execution_count": 10,
   "metadata": {},
   "outputs": [],
   "source": [
    "#**As of Python version 3.7, dictionaries are ordered. In Python 3.6 and earlier, dictionaries are unordered.\n",
    "from collections import OrderedDict\n",
    "\n",
    "Dict2={\"Name\":\"ROhit\",\"Place\":\"Noida\",\"Number\":12, \"Housenumber\":12,\"brand\": \"Ford\",\"model\": \"Mustang\",\"year\": 1964}\n",
    "\n"
   ]
  },
  {
   "cell_type": "code",
   "execution_count": 9,
   "metadata": {},
   "outputs": [
    {
     "data": {
      "text/plain": [
       "{'Name': 'ROhit',\n",
       " 'Place': 'Noida',\n",
       " 'Number': 12,\n",
       " 'Housenumber': 12,\n",
       " 'brand': 'Ford',\n",
       " 'model': 'Mustang',\n",
       " 'year': 1964}"
      ]
     },
     "execution_count": 9,
     "metadata": {},
     "output_type": "execute_result"
    }
   ],
   "source": [
    "Dict2"
   ]
  },
  {
   "cell_type": "markdown",
   "metadata": {},
   "source": [
    "7.\tWrite a Python program to sort Python Dictionaries by Key or Value?"
   ]
  },
  {
   "cell_type": "code",
   "execution_count": 19,
   "metadata": {},
   "outputs": [
    {
     "data": {
      "text/plain": [
       "[2, 3, 12]"
      ]
     },
     "execution_count": 19,
     "metadata": {},
     "output_type": "execute_result"
    }
   ],
   "source": [
    "Dict1={12:1,2:44,3:3}\n",
    "\n",
    "sorted(Dict1.keys()) # only keys sorting"
   ]
  },
  {
   "cell_type": "code",
   "execution_count": 21,
   "metadata": {},
   "outputs": [
    {
     "data": {
      "text/plain": [
       "[1, 3, 44]"
      ]
     },
     "execution_count": 21,
     "metadata": {},
     "output_type": "execute_result"
    }
   ],
   "source": [
    "sorted(Dict1.values()) # only values sorting"
   ]
  },
  {
   "cell_type": "code",
   "execution_count": 23,
   "metadata": {},
   "outputs": [
    {
     "data": {
      "text/plain": [
       "{2: 44, 3: 3, 12: 1}"
      ]
     },
     "execution_count": 23,
     "metadata": {},
     "output_type": "execute_result"
    }
   ],
   "source": [
    "dict(sorted(Dict1.items())) # converting to dict after sorting"
   ]
  }
 ],
 "metadata": {
  "kernelspec": {
   "display_name": "Python 3",
   "language": "python",
   "name": "python3"
  },
  "language_info": {
   "codemirror_mode": {
    "name": "ipython",
    "version": 3
   },
   "file_extension": ".py",
   "mimetype": "text/x-python",
   "name": "python",
   "nbconvert_exporter": "python",
   "pygments_lexer": "ipython3",
   "version": "3.8.3"
  }
 },
 "nbformat": 4,
 "nbformat_minor": 4
}

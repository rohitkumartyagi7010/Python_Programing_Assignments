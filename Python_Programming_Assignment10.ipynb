{
 "cells": [
  {
   "cell_type": "markdown",
   "metadata": {},
   "source": [
    "1.\tWrite a Python program to find sum of elements in list?"
   ]
  },
  {
   "cell_type": "code",
   "execution_count": 27,
   "metadata": {},
   "outputs": [
    {
     "name": "stdout",
     "output_type": "stream",
     "text": [
      "Sum of your list is 21\n"
     ]
    }
   ],
   "source": [
    "list1= [1,2,3,4,5,6]\n",
    "\n",
    "Sum = 0\n",
    "\n",
    "for ele in list1:\n",
    "    \n",
    "    Sum = Sum + ele\n",
    "    \n",
    "print(f\"Sum of your list is {Sum}\")    "
   ]
  },
  {
   "cell_type": "code",
   "execution_count": 31,
   "metadata": {},
   "outputs": [
    {
     "name": "stdout",
     "output_type": "stream",
     "text": [
      "Sum of your list is  21\n"
     ]
    }
   ],
   "source": [
    "# another ways is use inbuilt sum function\n",
    "\n",
    "print(\"Sum of your list is \",sum(list1))"
   ]
  },
  {
   "cell_type": "markdown",
   "metadata": {},
   "source": [
    "2.\tWrite a Python program to  Multiply all numbers in the list?"
   ]
  },
  {
   "cell_type": "code",
   "execution_count": 33,
   "metadata": {},
   "outputs": [
    {
     "name": "stdout",
     "output_type": "stream",
     "text": [
      "Multiply of your list is 720\n"
     ]
    }
   ],
   "source": [
    "list1= [1,2,3,4,5,6]\n",
    "\n",
    "Mul = 1\n",
    "\n",
    "for ele in list1:\n",
    "    \n",
    "    Mul = Mul * ele\n",
    "    \n",
    "print(f\"Multiply of your list is {Mul}\")   "
   ]
  },
  {
   "cell_type": "markdown",
   "metadata": {},
   "source": [
    "3.\tWrite a Python program to find smallest number in a list?"
   ]
  },
  {
   "cell_type": "code",
   "execution_count": 38,
   "metadata": {},
   "outputs": [
    {
     "name": "stdout",
     "output_type": "stream",
     "text": [
      "Smallest is 1\n"
     ]
    }
   ],
   "source": [
    "list1= [10,2,3,4,5,6,1]\n",
    "\n",
    "Smallest = list1[0]\n",
    "\n",
    "for i in range(len(list1)):\n",
    "    if list1[i]<Smallest:\n",
    "        \n",
    "        Smallest = list1 [i]\n",
    "        \n",
    "print(f\"Smallest is {Smallest}\")\n",
    "    \n",
    "    \n"
   ]
  },
  {
   "cell_type": "code",
   "execution_count": 42,
   "metadata": {},
   "outputs": [
    {
     "name": "stdout",
     "output_type": "stream",
     "text": [
      "[1, 2, 3, 4, 5, 6, 10]\n",
      "Smallest element is : 1\n"
     ]
    }
   ],
   "source": [
    "# or using sort method\n",
    "\n",
    "list1.sort()\n",
    "\n",
    "print(list1)\n",
    "\n",
    "print(\"Smallest element is :\",list1[0])"
   ]
  },
  {
   "cell_type": "markdown",
   "metadata": {},
   "source": [
    "4.\tWrite a Python program to find largest number in a list?"
   ]
  },
  {
   "cell_type": "code",
   "execution_count": 46,
   "metadata": {},
   "outputs": [
    {
     "name": "stdout",
     "output_type": "stream",
     "text": [
      "Largest is :  97\n"
     ]
    }
   ],
   "source": [
    "list1 =  [23,56,78,11,97]\n",
    "\n",
    "largest = list1[0]\n",
    "\n",
    "i=0\n",
    "\n",
    "for i in range(len(list1)):\n",
    "    \n",
    "    if largest< list1[i]:\n",
    "        \n",
    "        largest = list1[i]\n",
    "        \n",
    "        \n",
    "        \n",
    "print(\"Largest is : \",largest)        \n",
    "    \n",
    "    \n",
    "    \n",
    "    "
   ]
  },
  {
   "cell_type": "markdown",
   "metadata": {},
   "source": [
    "5.\tWrite a Python program to find second largest number in a list?"
   ]
  },
  {
   "cell_type": "code",
   "execution_count": 50,
   "metadata": {},
   "outputs": [
    {
     "data": {
      "text/plain": [
       "23"
      ]
     },
     "execution_count": 50,
     "metadata": {},
     "output_type": "execute_result"
    }
   ],
   "source": [
    "list1 =  [23,56,78,11,97]\n",
    "\n",
    "list1.sort()\n",
    "\n",
    "list1[1]"
   ]
  },
  {
   "cell_type": "markdown",
   "metadata": {},
   "source": [
    "6.\tWrite a Python program to find N largest elements from a list?"
   ]
  },
  {
   "cell_type": "code",
   "execution_count": 54,
   "metadata": {},
   "outputs": [
    {
     "data": {
      "text/plain": [
       "[11, 23]"
      ]
     },
     "execution_count": 54,
     "metadata": {},
     "output_type": "execute_result"
    }
   ],
   "source": [
    "def N_largest(N,List):\n",
    "    \n",
    "    List.sort()\n",
    "\n",
    "    return List[0:N]\n",
    "    \n",
    "    \n",
    "    \n",
    "N_largest(2,[23,56,78,11,97])    "
   ]
  },
  {
   "cell_type": "markdown",
   "metadata": {},
   "source": [
    "7.\tWrite a Python program to print even numbers in a list?"
   ]
  },
  {
   "cell_type": "code",
   "execution_count": 55,
   "metadata": {},
   "outputs": [
    {
     "name": "stdout",
     "output_type": "stream",
     "text": [
      "56 is a even number\n",
      "78 is a even number\n"
     ]
    }
   ],
   "source": [
    "list1= [23,56,78,11,97]\n",
    "\n",
    "for ele in list1:\n",
    "    \n",
    "    if ele%2==0:\n",
    "        \n",
    "        print(f\"{ele} is a even number\")"
   ]
  },
  {
   "cell_type": "markdown",
   "metadata": {},
   "source": [
    "8.\tWrite a Python program to print odd numbers in a List?"
   ]
  },
  {
   "cell_type": "code",
   "execution_count": 56,
   "metadata": {},
   "outputs": [
    {
     "name": "stdout",
     "output_type": "stream",
     "text": [
      "23 is a even number\n",
      "11 is a even number\n",
      "97 is a even number\n"
     ]
    }
   ],
   "source": [
    "list1= [23,56,78,11,97]\n",
    "\n",
    "for ele in list1:\n",
    "    \n",
    "    if ele%2!=0:\n",
    "        \n",
    "        print(f\"{ele} is a even number\")"
   ]
  },
  {
   "cell_type": "markdown",
   "metadata": {},
   "source": [
    "9.\tWrite a Python program to Remove empty List from List?"
   ]
  },
  {
   "cell_type": "code",
   "execution_count": 60,
   "metadata": {},
   "outputs": [
    {
     "name": "stdout",
     "output_type": "stream",
     "text": [
      "final list after removing empty list is :  [[1, 2, 3], [5, 6, 7]]\n"
     ]
    }
   ],
   "source": [
    "list1 = [[1,2,3],[],[5,6,7]]\n",
    "\n",
    "for i in list1:\n",
    "    \n",
    "    if len(i)==0:\n",
    "        \n",
    "        list1.remove(i)\n",
    "print(\"final list after removing empty list is : \",list1)\n"
   ]
  },
  {
   "cell_type": "markdown",
   "metadata": {},
   "source": [
    "10.\tWrite a Python program to Cloning or Copying a list?"
   ]
  },
  {
   "cell_type": "code",
   "execution_count": 85,
   "metadata": {},
   "outputs": [],
   "source": [
    "import copy\n",
    "\n",
    "list12=[1,2,3,4,[1,2]]\n",
    "\n",
    "list13 = copy.copy(list12)\n",
    "\n",
    "\n"
   ]
  },
  {
   "cell_type": "markdown",
   "metadata": {},
   "source": [
    "11.\tWrite a Python program to Count occurrences of an element in a list?"
   ]
  },
  {
   "cell_type": "code",
   "execution_count": 86,
   "metadata": {},
   "outputs": [
    {
     "data": {
      "text/plain": [
       "4"
      ]
     },
     "execution_count": 86,
     "metadata": {},
     "output_type": "execute_result"
    }
   ],
   "source": [
    "list14 = [1,2,3,1,2,1,2,1,2]\n",
    "\n",
    "list14.count(1)"
   ]
  }
 ],
 "metadata": {
  "kernelspec": {
   "display_name": "Python 3",
   "language": "python",
   "name": "python3"
  },
  "language_info": {
   "codemirror_mode": {
    "name": "ipython",
    "version": 3
   },
   "file_extension": ".py",
   "mimetype": "text/x-python",
   "name": "python",
   "nbconvert_exporter": "python",
   "pygments_lexer": "ipython3",
   "version": "3.8.3"
  }
 },
 "nbformat": 4,
 "nbformat_minor": 4
}

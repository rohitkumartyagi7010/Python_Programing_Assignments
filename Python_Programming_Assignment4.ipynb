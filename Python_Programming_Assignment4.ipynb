{
 "cells": [
  {
   "cell_type": "markdown",
   "metadata": {},
   "source": [
    "1.\tWrite a Python Program to Find the Factorial of a Number?"
   ]
  },
  {
   "cell_type": "code",
   "execution_count": 2,
   "metadata": {},
   "outputs": [
    {
     "data": {
      "text/plain": [
       "'Factorial is 120'"
      ]
     },
     "execution_count": 2,
     "metadata": {},
     "output_type": "execute_result"
    }
   ],
   "source": [
    "class math2:\n",
    "    pass\n",
    "\n",
    "    def __init__(self,Num):\n",
    "        self.Num=Num\n",
    "        \n",
    "    def factorial_num3(Num2):\n",
    "    \n",
    "        fact= 1\n",
    "        \n",
    "        for i in range(1,Num2+1):\n",
    "        \n",
    "            fact = fact * i\n",
    "            \n",
    "        return f\"Factorial is {fact}\"    \n",
    "           \n",
    "        \n",
    "        \n",
    "My_Object = math2(\"Rohit\")\n",
    "\n",
    "math2.factorial_num3(5)        "
   ]
  },
  {
   "cell_type": "code",
   "execution_count": 8,
   "metadata": {},
   "outputs": [
    {
     "name": "stdout",
     "output_type": "stream",
     "text": [
      " 5 X 1 = 5 \n",
      " 5 X 2 = 10 \n",
      " 5 X 3 = 15 \n",
      " 5 X 4 = 20 \n",
      " 5 X 5 = 25 \n",
      " 5 X 6 = 30 \n",
      " 5 X 7 = 35 \n",
      " 5 X 8 = 40 \n",
      " 5 X 9 = 45 \n",
      " 5 X 10 = 50 \n"
     ]
    }
   ],
   "source": [
    "class my_class_multitable:\n",
    "    \n",
    "    def __init__(self,Number):\n",
    "        \n",
    "        self.Number = Number\n",
    "        \n",
    "    def Multiplication_table(self):\n",
    "        \n",
    "        for i in range(1,11):\n",
    "            \n",
    "            print (f\" {self.Number} X {i} = {self.Number * i} \")\n",
    "    \n",
    "my_object = my_class_multitable(5)\n",
    "\n",
    "my_object.Multiplication_table()"
   ]
  },
  {
   "cell_type": "markdown",
   "metadata": {},
   "source": [
    " 3.\tWrite a Python Program to Print the Fibonacci sequence?\n",
    "        "
   ]
  },
  {
   "cell_type": "code",
   "execution_count": 20,
   "metadata": {},
   "outputs": [
    {
     "name": "stdout",
     "output_type": "stream",
     "text": [
      "1\n",
      "2\n",
      "3\n",
      "5\n",
      "8\n",
      "13\n",
      "21\n",
      "34\n",
      "55\n",
      "89\n"
     ]
    }
   ],
   "source": [
    "def Fibonacci(fib_num):\n",
    "    \n",
    "    p=0\n",
    "    q=1\n",
    "    \n",
    "    for i in range(0,fib_num):\n",
    "        \n",
    "        \n",
    "        \n",
    "        print(p+q)\n",
    "        \n",
    "        p,q=q,p+q\n",
    "        \n",
    "        \n",
    "        \n",
    "Fibonacci(10)        "
   ]
  },
  {
   "cell_type": "markdown",
   "metadata": {},
   "source": [
    "4.\tWrite a Python Program to Check Armstrong Number?"
   ]
  },
  {
   "cell_type": "code",
   "execution_count": 34,
   "metadata": {},
   "outputs": [
    {
     "name": "stdout",
     "output_type": "stream",
     "text": [
      "407  is a armstrong number\n"
     ]
    }
   ],
   "source": [
    "def Armstrong_number(number):\n",
    "\n",
    "\n",
    "\n",
    "\n",
    "    total = 0\n",
    "    for i in str(number):\n",
    "\n",
    "        \n",
    "\n",
    "        total = total + (int(i))**3\n",
    "\n",
    "\n",
    "    if total == number:\n",
    "\n",
    "        print(number, \" is a armstrong number\")\n",
    "\n",
    "    else:\n",
    "        print(number, \"is not a armstron number\")\n",
    "    \n",
    "    \n",
    "Armstrong_number(407)    \n",
    "    "
   ]
  },
  {
   "cell_type": "markdown",
   "metadata": {},
   "source": [
    "5.\tWrite a Python Program to Find Armstrong Number in an Interval?"
   ]
  },
  {
   "cell_type": "code",
   "execution_count": 52,
   "metadata": {},
   "outputs": [
    {
     "name": "stdout",
     "output_type": "stream",
     "text": [
      "153  is a armstrong number\n",
      "370  is a armstrong number\n",
      "371  is a armstrong number\n",
      "407  is a armstrong number\n"
     ]
    }
   ],
   "source": [
    "def Armstrong_number():\n",
    "    \n",
    "    \n",
    "    for number in range(100,1000):\n",
    "\n",
    "\n",
    "\n",
    "\n",
    "        total = 0\n",
    "        for i in str(number):\n",
    "            \n",
    "            \n",
    "\n",
    "\n",
    "\n",
    "            total = total + (int(i))**3\n",
    "\n",
    "\n",
    "        if total == number:\n",
    "\n",
    "            print(number, \" is a armstrong number\")\n",
    "\n",
    "        \n",
    "\n",
    "    \n",
    "Armstrong_number()    \n",
    "        \n",
    "        "
   ]
  },
  {
   "cell_type": "markdown",
   "metadata": {},
   "source": [
    "6.\tWrite a Python Program to Find the Sum of Natural Numbers?\n",
    "    "
   ]
  },
  {
   "cell_type": "code",
   "execution_count": 53,
   "metadata": {},
   "outputs": [
    {
     "name": "stdout",
     "output_type": "stream",
     "text": [
      "The sum is 136\n"
     ]
    }
   ],
   "source": [
    "num = 16\n",
    "\n",
    "sum = 0\n",
    "  \n",
    "while(num > 0):\n",
    "       sum += num\n",
    "       num -= 1\n",
    "print(\"The sum is\", sum)"
   ]
  }
 ],
 "metadata": {
  "kernelspec": {
   "display_name": "Python 3",
   "language": "python",
   "name": "python3"
  },
  "language_info": {
   "codemirror_mode": {
    "name": "ipython",
    "version": 3
   },
   "file_extension": ".py",
   "mimetype": "text/x-python",
   "name": "python",
   "nbconvert_exporter": "python",
   "pygments_lexer": "ipython3",
   "version": "3.8.3"
  }
 },
 "nbformat": 4,
 "nbformat_minor": 4
}

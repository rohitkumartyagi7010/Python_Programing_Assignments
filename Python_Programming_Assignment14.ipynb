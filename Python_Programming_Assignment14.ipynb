{
 "cells": [
  {
   "cell_type": "markdown",
   "metadata": {},
   "source": [
    "Question 1:\n",
    "\n",
    "Define a class with a generator which can iterate the numbers, which are divisible by 7, between a given range 0 and n.\n"
   ]
  },
  {
   "cell_type": "code",
   "execution_count": 1,
   "metadata": {},
   "outputs": [
    {
     "name": "stdout",
     "output_type": "stream",
     "text": [
      "0\n",
      "7\n",
      "14\n",
      "21\n",
      "28\n",
      "35\n",
      "42\n",
      "49\n",
      "56\n",
      "63\n",
      "70\n",
      "77\n",
      "84\n",
      "91\n",
      "98\n",
      "105\n"
     ]
    }
   ],
   "source": [
    "class Generator:\n",
    "    def __init__(self,Range):\n",
    "        self.Range=Range\n",
    "        \n",
    "    def Gen(self):\n",
    "        \n",
    "        for num in range(self.Range):\n",
    "            if num%7==0:\n",
    "                yield(num)\n",
    "                \n",
    "        \n",
    "            \n",
    "    \n",
    "My_object = Generator(107)  \n",
    "for i in My_object.Gen():\n",
    "    print(i)"
   ]
  },
  {
   "cell_type": "markdown",
   "metadata": {},
   "source": [
    "Question 2:\n",
    "\n",
    "Write a program to compute the frequency of the words from the input. The output should output after sorting the key alphanumerically. \n",
    "\n",
    "Suppose the following input is supplied to the program:\n",
    "\n",
    "New to Python or choosing between Python 2 and Python 3? Read Python 2 or Python 3.\n",
    "\n",
    "Then, the output should be:\n",
    "\n",
    "2:2\n",
    "\n",
    "3.:1\n",
    "\n",
    "3?:1\n",
    "\n",
    "New:1\n",
    "\n",
    "Python:5\n",
    "\n",
    "Read:1\n",
    "\n",
    "and:1\n",
    "\n",
    "between:1\n",
    "\n",
    "choosing:1\n",
    "\n",
    "or:2\n",
    "\n",
    "to:1\n"
   ]
  },
  {
   "cell_type": "code",
   "execution_count": 9,
   "metadata": {},
   "outputs": [
    {
     "name": "stdout",
     "output_type": "stream",
     "text": [
      "Enter your sentence : New to Python or choosing between Python 2 and Python 3? Read Python 2 or Python 3.\n",
      "{'New': 1, 'to': 1, 'Python': 5, 'or': 2, 'choosing': 1, 'between': 1, '2': 2, 'and': 1, '3?': 1, 'Read': 1, '3.': 1}\n"
     ]
    }
   ],
   "source": [
    "Input = input(\"Enter your sentence : \").split(\" \")\n",
    "\n",
    "Word_count_dict={}\n",
    "\n",
    "for word in Input:\n",
    "    if word not in Word_count_dict:\n",
    "        Word_count_dict[word]=1\n",
    "        \n",
    "    else:\n",
    "        \n",
    "        Word_count_dict[word]+=1\n",
    "        \n",
    "        \n",
    "    \n",
    "print(Word_count_dict)    \n",
    "    \n"
   ]
  },
  {
   "cell_type": "markdown",
   "metadata": {},
   "source": [
    "Question 3:\n",
    "\n",
    "\n",
    "\n",
    "Define a class Person and its two child classes: Male and Female. All classes have a method \"getGender\" which can print \"Male\" for Male class and \"Female\" for Female class.\n",
    "\n",
    "\n"
   ]
  },
  {
   "cell_type": "code",
   "execution_count": 20,
   "metadata": {},
   "outputs": [
    {
     "name": "stdout",
     "output_type": "stream",
     "text": [
      "Male\n",
      "Female\n"
     ]
    }
   ],
   "source": [
    "class Person:\n",
    "    \n",
    "    def __init__(self):\n",
    "        pass\n",
    "    \n",
    "class Male(Person):\n",
    "    \n",
    "    def getGender(self):\n",
    "        \n",
    "        return \"Male\"\n",
    "\n",
    "class Female(Person):\n",
    "    def getGender(self):\n",
    "        \n",
    "        return \"Female\"\n",
    "    \n",
    "    \n",
    "    \n",
    "        \n",
    "    \n",
    "Person_object = Male()  \n",
    "Person_object2=Female()\n",
    "\n",
    "print(Person_object.getGender())\n",
    "\n",
    "print(Person_object2.getGender())"
   ]
  },
  {
   "cell_type": "markdown",
   "metadata": {},
   "source": [
    "Question 4:\n",
    "Please write a program to generate all sentences where subject is in [\"I\", \"You\"] and verb is in [\"Play\", \"Love\"] and the object is in [\"Hockey\",\"Football\"].\n"
   ]
  },
  {
   "cell_type": "code",
   "execution_count": 23,
   "metadata": {},
   "outputs": [
    {
     "name": "stdout",
     "output_type": "stream",
     "text": [
      "IPlayHockey\n",
      "IPlayFootball\n",
      "ILoveHockey\n",
      "ILoveFootball\n",
      "YouPlayHockey\n",
      "YouPlayFootball\n",
      "YouLoveHockey\n",
      "YouLoveFootball\n"
     ]
    }
   ],
   "source": [
    "list1=[\"I\", \"You\"]\n",
    "list2=[\"Play\", \"Love\"]\n",
    "list3=[\"Hockey\",\"Football\"]\n",
    "\n",
    "for i in list1:\n",
    "    \n",
    "    for j in range(len(list2)):\n",
    "        \n",
    "        for k in range(len(list3)):\n",
    "            \n",
    "            print(i+list2[j]+list3[k])\n",
    "    \n",
    "    "
   ]
  },
  {
   "cell_type": "markdown",
   "metadata": {},
   "source": [
    "Question 5:\n",
    "Please write a program to compress and decompress the string \"hello world!hello world!hello world!hello world!\".\n"
   ]
  },
  {
   "cell_type": "code",
   "execution_count": 38,
   "metadata": {},
   "outputs": [
    {
     "name": "stdout",
     "output_type": "stream",
     "text": [
      "Compress is :\n",
      " b'x\\x9c\\xcbH\\xcd\\xc9\\xc9W(\\xcf/\\xcaIQ\\xcc \\x82\\r\\x00\\xbd[\\x11\\xf5'\n",
      "Decompress is :\n",
      " b'hello world!hello world!hello world!hello world!'\n"
     ]
    }
   ],
   "source": [
    "import zlib\n",
    "\n",
    "string =\"hello world!hello world!hello world!hello world!\" # first need to convert into byte like object\n",
    "\n",
    "string = bytes(string,\"utf-8\")\n",
    "\n",
    "compress = zlib.compress(string)\n",
    "\n",
    "print(\"Compress is :\\n\",compress)\n",
    "\n",
    "decompress = zlib.decompress(compress)\n",
    "\n",
    "print(\"Decompress is :\\n\",decompress)\n",
    "\n"
   ]
  },
  {
   "cell_type": "markdown",
   "metadata": {},
   "source": [
    "Question 6:\n",
    "Please write a binary search function which searches an item in a sorted list. The function should return the index of element to be searched in the list.\n"
   ]
  },
  {
   "cell_type": "code",
   "execution_count": 45,
   "metadata": {},
   "outputs": [
    {
     "name": "stdout",
     "output_type": "stream",
     "text": [
      "Array Length: 14\n",
      "Middle value: 7\n",
      "Middle value: 10\n",
      "The Value Found at Index: 10\n"
     ]
    }
   ],
   "source": [
    "def binary_search(array, target):\n",
    "    lower = 0\n",
    "    upper = len(array)\n",
    "    print('Array Length:',upper)\n",
    "    while lower < upper:\n",
    "        x = (lower + upper) // 2\n",
    "        print('Middle value:',x)\n",
    "        value = array[x]\n",
    "        if target == value:\n",
    "            return x\n",
    "        elif target > value:\n",
    "            lower = x\n",
    "        elif target < value:\n",
    "            upper = x\n",
    "\n",
    "Array = [1,5,8,10,12,13,55,66,73,78,82,85,88,99]\n",
    "print('The Value Found at Index:',binary_search(Array, 82))"
   ]
  }
 ],
 "metadata": {
  "kernelspec": {
   "display_name": "Python 3",
   "language": "python",
   "name": "python3"
  },
  "language_info": {
   "codemirror_mode": {
    "name": "ipython",
    "version": 3
   },
   "file_extension": ".py",
   "mimetype": "text/x-python",
   "name": "python",
   "nbconvert_exporter": "python",
   "pygments_lexer": "ipython3",
   "version": "3.8.3"
  }
 },
 "nbformat": 4,
 "nbformat_minor": 4
}

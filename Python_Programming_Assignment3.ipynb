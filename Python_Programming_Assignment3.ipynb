{
 "cells": [
  {
   "cell_type": "markdown",
   "metadata": {},
   "source": [
    "1.\tWrite a Python Program to Check if a Number is Positive, Negative or Zero?"
   ]
  },
  {
   "cell_type": "code",
   "execution_count": 1,
   "metadata": {},
   "outputs": [
    {
     "data": {
      "text/plain": [
       "'Number is positive'"
      ]
     },
     "execution_count": 1,
     "metadata": {},
     "output_type": "execute_result"
    }
   ],
   "source": [
    "def Number_checker(Number):\n",
    "    if Number>0:\n",
    "        return  \"Number is positive\"\n",
    "    \n",
    "    elif Number<0:\n",
    "        \n",
    "        return \"Number is negtive\"\n",
    "    \n",
    "    elif Number==0:\n",
    "        \n",
    "        return \"Number is zero\"\n",
    "    \n",
    "Number_checker(12)    "
   ]
  },
  {
   "cell_type": "markdown",
   "metadata": {},
   "source": [
    "2.\tWrite a Python Program to Check if a Number is Odd or Even?"
   ]
  },
  {
   "cell_type": "code",
   "execution_count": 2,
   "metadata": {},
   "outputs": [
    {
     "data": {
      "text/plain": [
       "'2 is Even'"
      ]
     },
     "execution_count": 2,
     "metadata": {},
     "output_type": "execute_result"
    }
   ],
   "source": [
    "def Number_Even_Odd(Num):\n",
    "    \n",
    "    if Num%2==0:\n",
    "        \n",
    "        return f\"{Num} is Even\"\n",
    "    \n",
    "    elif Num<0:\n",
    "        \n",
    "        return f\"{Num} is negtive\"\n",
    "    \n",
    "    else:\n",
    "        \n",
    "        return f\"{Num} is odd\"\n",
    "    \n",
    "Number_Even_Odd(2)"
   ]
  },
  {
   "cell_type": "markdown",
   "metadata": {},
   "source": [
    "3.\tWrite a Python Program to Check Leap Year?"
   ]
  },
  {
   "cell_type": "code",
   "execution_count": 3,
   "metadata": {},
   "outputs": [
    {
     "data": {
      "text/plain": [
       "'Your year 2018 is a not a leap year'"
      ]
     },
     "execution_count": 3,
     "metadata": {},
     "output_type": "execute_result"
    }
   ],
   "source": [
    "def Leap_Year_check(Year):\n",
    "    \n",
    "    try:\n",
    "    \n",
    "        if Year%4==0:\n",
    "            return f\"Your year {Year} is a leap year\"\n",
    "\n",
    "        else:\n",
    "            return f\"Your year {Year} is a not a leap year\"\n",
    "        \n",
    "    except:\n",
    "        \n",
    "        print(\"invalid input only Enter year\")\n",
    "    \n",
    "Leap_Year_check(2018)    "
   ]
  },
  {
   "cell_type": "markdown",
   "metadata": {},
   "source": [
    "4.\tWrite a Python Program to Check Prime Number?"
   ]
  },
  {
   "cell_type": "code",
   "execution_count": 4,
   "metadata": {},
   "outputs": [
    {
     "data": {
      "text/plain": [
       "'Negative number'"
      ]
     },
     "execution_count": 4,
     "metadata": {},
     "output_type": "execute_result"
    }
   ],
   "source": [
    "def Prime_Number_check(Number):\n",
    "    \n",
    "    try:\n",
    "    \n",
    "        if Number<0:\n",
    "\n",
    "            return \"Negative number\"\n",
    "\n",
    "        elif Number == 0:\n",
    "\n",
    "            return \"Number is Zero\"\n",
    "\n",
    "        else:\n",
    "\n",
    "            for i in range(2,Number):\n",
    "\n",
    "\n",
    "\n",
    "                if Number%i==0:\n",
    "\n",
    "                    return \"Not a prime number\"\n",
    "\n",
    "\n",
    "\n",
    "            else:\n",
    "\n",
    "                return \"Prime number\"\n",
    "            \n",
    "    except:\n",
    "        \n",
    "        print(\"Invalid input Only numbers are allowed\")\n",
    "\n",
    "        \n",
    "Prime_Number_check(-2)    "
   ]
  },
  {
   "cell_type": "markdown",
   "metadata": {},
   "source": [
    "5.\tWrite a Python Program to Print all Prime Numbers in an Interval of 1-10000?"
   ]
  },
  {
   "cell_type": "code",
   "execution_count": 15,
   "metadata": {},
   "outputs": [
    {
     "name": "stdout",
     "output_type": "stream",
     "text": [
      "2\n",
      "3\n",
      "5\n",
      "7\n",
      "11\n",
      "13\n",
      "17\n",
      "19\n",
      "23\n",
      "29\n",
      "31\n",
      "37\n",
      "41\n",
      "43\n",
      "47\n",
      "53\n",
      "59\n",
      "61\n",
      "67\n",
      "71\n",
      "73\n",
      "79\n",
      "83\n",
      "89\n",
      "97\n"
     ]
    }
   ],
   "source": [
    "lower_value =1\n",
    "upper_value=100\n",
    "\n",
    "\n",
    "for number in range (lower_value, upper_value + 1):  \n",
    "    if number > 1:  \n",
    "        for i in range (2, number):  \n",
    "            if (number % i) == 0:  \n",
    "                break  \n",
    "        else:  \n",
    "            print (number)  "
   ]
  },
  {
   "cell_type": "code",
   "execution_count": null,
   "metadata": {},
   "outputs": [],
   "source": []
  }
 ],
 "metadata": {
  "kernelspec": {
   "display_name": "Python 3",
   "language": "python",
   "name": "python3"
  },
  "language_info": {
   "codemirror_mode": {
    "name": "ipython",
    "version": 3
   },
   "file_extension": ".py",
   "mimetype": "text/x-python",
   "name": "python",
   "nbconvert_exporter": "python",
   "pygments_lexer": "ipython3",
   "version": "3.8.3"
  }
 },
 "nbformat": 4,
 "nbformat_minor": 4
}

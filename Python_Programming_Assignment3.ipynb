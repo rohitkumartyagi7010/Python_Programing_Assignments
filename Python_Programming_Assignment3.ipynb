{
 "cells": [
  {
   "cell_type": "markdown",
   "id": "755c5c03-e672-41e3-80fa-b51bd5573e66",
   "metadata": {},
   "source": [
    "1.Write a Python Program to Check if a Number is Positive, Negative or Zero?"
   ]
  },
  {
   "cell_type": "code",
   "execution_count": 24,
   "id": "9da76da6-c146-496a-b079-69cdf82bca26",
   "metadata": {},
   "outputs": [
    {
     "name": "stdin",
     "output_type": "stream",
     "text": [
      "Enter your number 23\n"
     ]
    },
    {
     "name": "stdout",
     "output_type": "stream",
     "text": [
      "positive\n"
     ]
    }
   ],
   "source": [
    "def number_cheker(number):\n",
    "    if number > 0:\n",
    "        return \"positive\"\n",
    "    if number < 0:\n",
    "        return \"Negative\"\n",
    "    if number == 0:\n",
    "        return \"number is Zero\"\n",
    "\n",
    "try:\n",
    "    number = int(input(\"Enter your number\"))\n",
    "    print(number_cheker(number))\n",
    "except Exception as error:\n",
    "    print(\"only numbers are allowed \",error)\n",
    "   "
   ]
  },
  {
   "cell_type": "markdown",
   "id": "67572eb6-a47c-4795-8316-88fb89b1deb1",
   "metadata": {},
   "source": [
    "2.Write a Python Program to Check if a Number is Odd or Even?"
   ]
  },
  {
   "cell_type": "code",
   "execution_count": 29,
   "id": "8b60e827-ea0b-4e38-b272-a851ee5ec268",
   "metadata": {},
   "outputs": [
    {
     "name": "stdin",
     "output_type": "stream",
     "text": [
      "Enter your number to check even or odd :  23\n"
     ]
    },
    {
     "name": "stdout",
     "output_type": "stream",
     "text": [
      "Odd\n"
     ]
    }
   ],
   "source": [
    "def even_or_odd(number):\n",
    "    if number%2==0:\n",
    "        return \"Even\"\n",
    "    if number%2 != 0:\n",
    "        return \"Odd\"\n",
    "\n",
    "try:\n",
    "    number  = int(input(\"Enter your number to check even or odd : \"))\n",
    "    print(even_or_odd(number))\n",
    "except Exception as e:\n",
    "    print(e)\n"
   ]
  },
  {
   "cell_type": "markdown",
   "id": "c14bb2b6-ee3e-4824-99b2-67fbb12d9774",
   "metadata": {},
   "source": [
    "3. Write a Python Program to Check Leap Year?"
   ]
  },
  {
   "cell_type": "code",
   "execution_count": 32,
   "id": "d80108f0-afe2-449e-89e6-fd233e0a7c39",
   "metadata": {},
   "outputs": [
    {
     "name": "stdin",
     "output_type": "stream",
     "text": [
      "Enter the to check :  kdsjfkdjf\n"
     ]
    },
    {
     "name": "stdout",
     "output_type": "stream",
     "text": [
      "invalid literal for int() with base 10: 'kdsjfkdjf'\n"
     ]
    }
   ],
   "source": [
    "def leap_year_checker(year):\n",
    "    if (year%4==0 and year%100!=0) or (year%400==0):\n",
    "        return f\"{year} Leap Year \"\n",
    "    else:\n",
    "        return f\"{year} Not a leap Year\"\n",
    "try:\n",
    "    year = int(input(\"Enter the to check : \"))\n",
    "    print(leap_year_checker(year))\n",
    "except Exception as e:\n",
    "    print(e)"
   ]
  },
  {
   "cell_type": "markdown",
   "id": "0c6fa262-b8de-467c-b2e7-b9ef6116974d",
   "metadata": {},
   "source": [
    "4.Write a Python Program to Check Prime Number?"
   ]
  },
  {
   "cell_type": "code",
   "execution_count": 98,
   "id": "930c8423-b95b-476b-b694-1e7c30cc8ebe",
   "metadata": {},
   "outputs": [
    {
     "name": "stdout",
     "output_type": "stream",
     "text": [
      "10.0\n",
      "3\n"
     ]
    }
   ],
   "source": [
    "import math\n",
    "number = 100\n",
    "number = math.sqrt(number)\n",
    "print(number)\n",
    "number = int(math.sqrt(number))\n",
    "print(number)"
   ]
  },
  {
   "cell_type": "code",
   "execution_count": 97,
   "id": "fbb327c9-11a0-44e1-add2-0713809fec35",
   "metadata": {},
   "outputs": [
    {
     "name": "stdout",
     "output_type": "stream",
     "text": [
      "Prime number \n"
     ]
    }
   ],
   "source": [
    "number = 67\n",
    "for i in range(2,int(i**.5)+1):\n",
    "        if j%i==0:\n",
    "            print(\"not a prime number \")\n",
    "            break\n",
    "else:\n",
    "    print(\"Prime number \")"
   ]
  },
  {
   "cell_type": "markdown",
   "id": "8596187a-a3da-4289-bfb5-2cbac12c94d0",
   "metadata": {},
   "source": [
    "5. Write a Python Program to Print all Prime Numbers in an Interval of 1-10000?"
   ]
  },
  {
   "cell_type": "code",
   "execution_count": 95,
   "id": "d5a2a349-a0c6-4a10-ac71-d43796eee9e3",
   "metadata": {},
   "outputs": [
    {
     "name": "stdout",
     "output_type": "stream",
     "text": [
      "2\n",
      "3\n",
      "5\n",
      "7\n",
      "11\n",
      "13\n",
      "17\n",
      "19\n",
      "23\n",
      "29\n",
      "31\n",
      "37\n",
      "41\n",
      "43\n",
      "47\n",
      "53\n",
      "59\n",
      "61\n",
      "67\n",
      "71\n",
      "73\n",
      "79\n",
      "83\n",
      "89\n",
      "97\n",
      "101\n",
      "103\n",
      "107\n",
      "109\n",
      "113\n",
      "127\n",
      "131\n",
      "137\n",
      "139\n",
      "149\n",
      "151\n",
      "157\n",
      "163\n",
      "167\n",
      "173\n",
      "179\n",
      "181\n",
      "191\n",
      "193\n",
      "197\n",
      "199\n",
      "211\n",
      "223\n",
      "227\n",
      "229\n",
      "233\n",
      "239\n",
      "241\n",
      "251\n",
      "257\n",
      "263\n",
      "269\n",
      "271\n",
      "277\n",
      "281\n",
      "283\n",
      "293\n",
      "307\n",
      "311\n",
      "313\n",
      "317\n",
      "331\n",
      "337\n",
      "347\n",
      "349\n",
      "353\n",
      "359\n",
      "367\n",
      "373\n",
      "379\n",
      "383\n",
      "389\n",
      "397\n",
      "401\n",
      "409\n",
      "419\n",
      "421\n",
      "431\n",
      "433\n",
      "439\n",
      "443\n",
      "449\n",
      "457\n",
      "461\n",
      "463\n",
      "467\n",
      "479\n",
      "487\n",
      "491\n",
      "499\n",
      "503\n",
      "509\n",
      "521\n",
      "523\n",
      "541\n",
      "547\n",
      "557\n",
      "563\n",
      "569\n",
      "571\n",
      "577\n",
      "587\n",
      "593\n",
      "599\n",
      "601\n",
      "607\n",
      "613\n",
      "617\n",
      "619\n",
      "631\n",
      "641\n",
      "643\n",
      "647\n",
      "653\n",
      "659\n",
      "661\n",
      "673\n",
      "677\n",
      "683\n",
      "691\n",
      "701\n",
      "709\n",
      "719\n",
      "727\n",
      "733\n",
      "739\n",
      "743\n",
      "751\n",
      "757\n",
      "761\n",
      "769\n",
      "773\n",
      "787\n",
      "797\n",
      "809\n",
      "811\n",
      "821\n",
      "823\n",
      "827\n",
      "829\n",
      "839\n",
      "853\n",
      "857\n",
      "859\n",
      "863\n",
      "877\n",
      "881\n",
      "883\n",
      "887\n",
      "907\n",
      "911\n",
      "919\n",
      "929\n",
      "937\n",
      "941\n",
      "947\n",
      "953\n",
      "967\n",
      "971\n",
      "977\n",
      "983\n",
      "991\n",
      "997\n"
     ]
    }
   ],
   "source": [
    "for j in range(2,1000):\n",
    "    for i in range(2,int(j**.5)+1):\n",
    "        if j%i==0:\n",
    "            break\n",
    "    else:\n",
    "        print(j)"
   ]
  },
  {
   "cell_type": "code",
   "execution_count": null,
   "id": "e718e3e5-d95d-4da4-9c63-b8377a475468",
   "metadata": {},
   "outputs": [],
   "source": []
  },
  {
   "cell_type": "code",
   "execution_count": null,
   "id": "dc574b2c-210b-4bcd-b257-286d7cfce446",
   "metadata": {},
   "outputs": [],
   "source": []
  }
 ],
 "metadata": {
  "kernelspec": {
   "display_name": "Python 3 (ipykernel)",
   "language": "python",
   "name": "python3"
  },
  "language_info": {
   "codemirror_mode": {
    "name": "ipython",
    "version": 3
   },
   "file_extension": ".py",
   "mimetype": "text/x-python",
   "name": "python",
   "nbconvert_exporter": "python",
   "pygments_lexer": "ipython3",
   "version": "3.11.7"
  }
 },
 "nbformat": 4,
 "nbformat_minor": 5
}

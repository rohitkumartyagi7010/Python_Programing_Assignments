{
 "cells": [
  {
   "cell_type": "markdown",
   "metadata": {},
   "source": [
    "Question 1:\n",
    "\n",
    "Write a program that calculates and prints the value according to the given formula:\n",
    "\n",
    "Q = Square root of [(2 * C * D)/H]\n",
    "\n",
    "Following are the fixed values of C and H:\n",
    "\n",
    "C is 50. H is 30.\n",
    "\n",
    "D is the variable whose values should be input to your program in a comma-separated sequence.\n",
    "\n",
    "Example\n",
    "\n",
    "Let us assume the following comma separated input sequence is given to the program:\n",
    "\n",
    "100,150,180\n",
    "\n",
    "The output of the program should be:\n",
    "\n",
    "18,22,24\n"
   ]
  },
  {
   "cell_type": "code",
   "execution_count": 14,
   "metadata": {},
   "outputs": [
    {
     "name": "stdout",
     "output_type": "stream",
     "text": [
      "Enter the value of D seprated by comma : 100,150,180\n",
      "18.257418583505537\n",
      "22.360679774997898\n",
      "24.49489742783178\n"
     ]
    }
   ],
   "source": [
    "import math\n",
    "\n",
    "C =50\n",
    "H =30\n",
    "Input_D = list((input(\"Enter the value of D seprated by comma : \")).split(\",\"))\n",
    "\n",
    "for D in Input_D:\n",
    "    D = int(D)\n",
    "    \n",
    "    print(math.sqrt((2 * C * D/H)))"
   ]
  },
  {
   "cell_type": "markdown",
   "metadata": {},
   "source": [
    "Question 2:\n",
    "Write a program which takes 2 digits, X,Y as input and generates a 2-dimensional array. The element value in the i-th row and j-th column of the array should be i*j.\n",
    "\n",
    "Note: i=0,1.., X-1; j=0,1,¡¬Y-1.\n",
    "\n",
    "Example\n",
    "\n",
    "Suppose the following inputs are given to the program:\n",
    "\n",
    "3,5\n",
    "\n",
    "Then, the output of the program should be:\n",
    "\n",
    "[[0, 0, 0, 0, 0], [0, 1, 2, 3, 4], [0, 2, 4, 6, 8]] \n",
    "\n"
   ]
  },
  {
   "cell_type": "code",
   "execution_count": 123,
   "metadata": {},
   "outputs": [
    {
     "name": "stdout",
     "output_type": "stream",
     "text": [
      "[[0, 0, 0, 0, 0], [0, 1, 2, 3, 4], [0, 2, 4, 6, 8]]\n"
     ]
    }
   ],
   "source": [
    "def Array(row_num,col_num):\n",
    "    multi_list = [[0 for col in range(col_num)] for row in range(row_num)]\n",
    "    #print(multi_list)\n",
    "\n",
    "    for row in range(row_num):\n",
    "        #print(\"row : \",row)\n",
    "        for col in range(col_num):\n",
    "            #print(\"col\",col)\n",
    "            multi_list[row][col]= row*col\n",
    "            #print(multi_list[row][col])\n",
    "\n",
    "    print(multi_list)\n",
    "    \n",
    "Array(3,5)    "
   ]
  },
  {
   "cell_type": "markdown",
   "metadata": {},
   "source": [
    "Question 3:\n",
    "Write a program that accepts a comma separated sequence of words as input and prints the words in a comma-separated sequence after sorting them alphabetically.\n",
    "\n",
    "Suppose the following input is supplied to the program:\n",
    "\n",
    "without,hello,bag,world\n",
    "\n",
    "Then, the output should be:\n",
    "\n",
    "bag,hello,without,world\n"
   ]
  },
  {
   "cell_type": "code",
   "execution_count": 37,
   "metadata": {},
   "outputs": [
    {
     "name": "stdout",
     "output_type": "stream",
     "text": [
      "Enter your values seprated by commas : without,hello,bag,world\n",
      "bag ,hello ,without ,world ,"
     ]
    }
   ],
   "source": [
    "Input = input(\"Enter your values seprated by commas : \").split(\",\")\n",
    "\n",
    "Input = sorted(Input)\n",
    "\n",
    "for ele in Input:\n",
    "    print(ele,\",\",end=\"\")\n",
    "    \n",
    "\n",
    "\n",
    "    \n",
    "\n",
    "\n",
    "\n",
    "\n"
   ]
  },
  {
   "cell_type": "markdown",
   "metadata": {},
   "source": [
    "Question 4:\n",
    "Write a program that accepts a sequence of whitespace separated words as input and prints the words after removing all duplicate words and sorting them alphanumerically.\n",
    "\n",
    "Suppose the following input is supplied to the program:\n",
    "\n",
    "hello world and practice makes perfect and hello world again\n",
    "\n",
    "Then, the output should be:\n",
    "\n",
    "again and hello makes perfect practice world\n"
   ]
  },
  {
   "cell_type": "code",
   "execution_count": 46,
   "metadata": {},
   "outputs": [
    {
     "name": "stdout",
     "output_type": "stream",
     "text": [
      "Enter Sequence seprated by space : hello world and practice makes perfect and hello world again\n",
      "again and hello makes perfect practice world "
     ]
    }
   ],
   "source": [
    "Input = input(\"Enter Sequence seprated by space : \").split(\" \")\n",
    "\n",
    "\n",
    "\n",
    "Input=sorted(set(Input))\n",
    "\n",
    "for ele in Input:\n",
    "    \n",
    "    print(ele,end = \" \")\n",
    "    "
   ]
  },
  {
   "cell_type": "markdown",
   "metadata": {},
   "source": [
    "Question 5:\n",
    "Write a program that accepts a sentence and calculate the number of letters and digits.\n",
    "\n",
    "Suppose the following input is supplied to the program:\n",
    "\n",
    "hello world! 123\n",
    "\n",
    "Then, the output should be:\n",
    "\n",
    "LETTERS 10\n",
    "\n",
    "DIGITS 3\n"
   ]
  },
  {
   "cell_type": "code",
   "execution_count": 83,
   "metadata": {},
   "outputs": [
    {
     "name": "stdout",
     "output_type": "stream",
     "text": [
      "Enter Sequence seprated by space : hello world! 123\n",
      "LETTERS :  10\n",
      "DIGITS :  3\n"
     ]
    }
   ],
   "source": [
    "Sentence =input(\"Enter Sequence seprated by space : \")\n",
    "\n",
    "\n",
    "LETTERS=0\n",
    "DIGITS =0\n",
    "\n",
    "\n",
    "    \n",
    "for i in list(Sentence):\n",
    "    if i.isalpha():\n",
    "        LETTERS +=1\n",
    "    if i.isdigit():\n",
    "        DIGITS +=1\n",
    "        \n",
    "    else:\n",
    "        pass\n",
    "        \n",
    "        \n",
    "print(\"LETTERS : \" ,LETTERS)\n",
    "print(\"DIGITS : \",DIGITS )        \n",
    "        "
   ]
  },
  {
   "cell_type": "markdown",
   "metadata": {},
   "source": [
    "Question 6:\n",
    "A website requires the users to input username and password to register. Write a program to check the validity of password input by users.\n",
    "\n",
    "Following are the criteria for checking the password:\n",
    "\n",
    "1. At least 1 letter between [a-z]\n",
    "\n",
    "2. At least 1 number between [0-9]\n",
    "\n",
    "1. At least 1 letter between [A-Z]\n",
    "\n",
    "3. At least 1 character from [$#@]\n",
    "\n",
    "4. Minimum length of transaction password: 6\n",
    "\n",
    "5. Maximum length of transaction password: 12\n",
    "\n",
    "Your program should accept a sequence of comma separated passwords and will check them according to the above criteria. Passwords that match the criteria are to be printed, each separated by a comma.\n",
    "\n",
    "Example\n",
    "\n",
    "If the following passwords are given as input to the program:\n",
    "\n",
    "ABd1234@1,a F1#,2w3E*,2We3345\n",
    "\n",
    "Then, the output of the program should be:\n",
    "\n",
    "ABd1234@1\n"
   ]
  },
  {
   "cell_type": "code",
   "execution_count": 121,
   "metadata": {},
   "outputs": [
    {
     "name": "stdout",
     "output_type": "stream",
     "text": [
      "Enter paswords sepreted by comma : ABd1234@1,a F1#,2w3E*,2We3345\n",
      "Correct_passwords are:  ABd1234@1 "
     ]
    }
   ],
   "source": [
    "import re # importing reg x module\n",
    "Password_list = input(\"Enter paswords sepreted by comma : \").split(\",\")\n",
    "\n",
    "for password in Password_list:\n",
    "    \n",
    "    if len(password)<6 or len(password)>12:\n",
    "        continue\n",
    "    elif not re.search(\"[A-Za-z0-9]+\",password):\n",
    "        continue\n",
    "        \n",
    "    elif not re.search(\"[$#@]+\",password):\n",
    "        continue\n",
    "    \n",
    "    else:\n",
    "        \n",
    "        print(\"Correct_passwords are: \",password,end=\" \")\n",
    "\n",
    "\n",
    "\n"
   ]
  }
 ],
 "metadata": {
  "kernelspec": {
   "display_name": "Python 3",
   "language": "python",
   "name": "python3"
  }
 },
 "nbformat": 4,
 "nbformat_minor": 4
}

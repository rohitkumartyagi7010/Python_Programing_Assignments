{
 "cells": [
  {
   "cell_type": "markdown",
   "metadata": {},
   "source": [
    "1.\tWrite a Python Program to Display Fibonacci Sequence Using Recursion?"
   ]
  },
  {
   "cell_type": "code",
   "execution_count": 19,
   "metadata": {},
   "outputs": [
    {
     "name": "stdout",
     "output_type": "stream",
     "text": [
      "0\n",
      "1\n",
      "1\n",
      "2\n",
      "3\n",
      "5\n"
     ]
    }
   ],
   "source": [
    "# using for loop\n",
    "p=0\n",
    "q=1\n",
    "for i in range(0,6):\n",
    "    print(p)\n",
    "    p,q=q,p+q"
   ]
  },
  {
   "cell_type": "code",
   "execution_count": 29,
   "metadata": {},
   "outputs": [
    {
     "name": "stdout",
     "output_type": "stream",
     "text": [
      "0\n",
      "1\n",
      "1\n",
      "2\n",
      "3\n",
      "5\n"
     ]
    }
   ],
   "source": [
    "# Using while loop \n",
    "\n",
    "a=0\n",
    "b=1\n",
    "count=0\n",
    "\n",
    "while count< 6:\n",
    "    print(a)\n",
    "    a,b=b,a+b\n",
    "    \n",
    "    \n",
    "    \n",
    "    \n",
    "    count +=1"
   ]
  },
  {
   "cell_type": "code",
   "execution_count": 41,
   "metadata": {},
   "outputs": [
    {
     "name": "stdout",
     "output_type": "stream",
     "text": [
      "0\n",
      "1\n",
      "1\n",
      "2\n",
      "3\n",
      "5\n"
     ]
    }
   ],
   "source": [
    "# using Recursion\n",
    "def recur_fibo(n):  \n",
    "    if n <= 1:  \n",
    "        return n  \n",
    "    else:  \n",
    "        return(recur_fibo(n-1) + recur_fibo(n-2))  \n",
    "    \n",
    "for i in range(6):  \n",
    "    print(recur_fibo(i))  "
   ]
  },
  {
   "cell_type": "markdown",
   "metadata": {},
   "source": [
    "2.\tWrite a Python Program to Find Factorial of Number Using Recursion?"
   ]
  },
  {
   "cell_type": "code",
   "execution_count": 62,
   "metadata": {},
   "outputs": [
    {
     "name": "stdout",
     "output_type": "stream",
     "text": [
      "factoreias is :  120\n"
     ]
    }
   ],
   "source": [
    "# with out recursion (factorial of 5)\n",
    "fact=1\n",
    "for i in range(1,6):\n",
    "    fact= fact*i\n",
    "print(\"factoreias is : \",fact)    \n",
    "    "
   ]
  },
  {
   "cell_type": "code",
   "execution_count": 63,
   "metadata": {},
   "outputs": [
    {
     "data": {
      "text/plain": [
       "120"
      ]
     },
     "execution_count": 63,
     "metadata": {},
     "output_type": "execute_result"
    }
   ],
   "source": [
    "# using recursion\n",
    "def recur_factorial(n): \n",
    "    if n == 1:  \n",
    "        return n \n",
    "    \n",
    "    else:\n",
    "        return n*recur_factorial(n-1)  \n",
    "\n",
    "\n",
    "recur_factorial(5)"
   ]
  },
  {
   "cell_type": "markdown",
   "metadata": {},
   "source": [
    "3.\tWrite a Python Program to calculate your Body Mass Index?"
   ]
  },
  {
   "cell_type": "code",
   "execution_count": 66,
   "metadata": {},
   "outputs": [
    {
     "data": {
      "text/plain": [
       "'BMI is 0.0025593737061989537'"
      ]
     },
     "execution_count": 66,
     "metadata": {},
     "output_type": "execute_result"
    }
   ],
   "source": [
    "# BMI calculator\n",
    "#kg/m**2\n",
    "\n",
    "def BMI_Calculator(weight,Height):\n",
    "    \n",
    "    Bmi = weight/(Height**2)\n",
    "    \n",
    "    return f\"BMI is {Bmi}\"\n",
    "\n",
    "\n",
    "BMI_Calculator(68,163)\n"
   ]
  },
  {
   "cell_type": "markdown",
   "metadata": {},
   "source": [
    "4.\tWrite a Python Program to calculate the natural logarithm of any number?"
   ]
  },
  {
   "cell_type": "code",
   "execution_count": 69,
   "metadata": {},
   "outputs": [
    {
     "name": "stdout",
     "output_type": "stream",
     "text": [
      "math.log(100) :  4.605170185988092\n"
     ]
    }
   ],
   "source": [
    "import math\n",
    "print (\"math.log(100) : \", math.log(100))"
   ]
  },
  {
   "cell_type": "markdown",
   "metadata": {},
   "source": [
    "5.\tWrite a Python Program for cube sum of first n natural numbers?"
   ]
  },
  {
   "cell_type": "code",
   "execution_count": 80,
   "metadata": {},
   "outputs": [
    {
     "data": {
      "text/plain": [
       "136"
      ]
     },
     "execution_count": 80,
     "metadata": {},
     "output_type": "execute_result"
    }
   ],
   "source": [
    "def Sum_Natural_number(num):\n",
    "    \n",
    "    sum1 = 0\n",
    "    \n",
    "    for i in range(0,num+1):\n",
    "        \n",
    "        sum1= sum1+i\n",
    "        \n",
    "    return sum1\n",
    "        \n",
    "        \n",
    "Sum_Natural_number(16)    "
   ]
  }
 ],
 "metadata": {
  "kernelspec": {
   "display_name": "Python 3",
   "language": "python",
   "name": "python3"
  },
  "language_info": {
   "codemirror_mode": {
    "name": "ipython",
    "version": 3
   },
   "file_extension": ".py",
   "mimetype": "text/x-python",
   "name": "python",
   "nbconvert_exporter": "python",
   "pygments_lexer": "ipython3",
   "version": "3.8.3"
  }
 },
 "nbformat": 4,
 "nbformat_minor": 4
}

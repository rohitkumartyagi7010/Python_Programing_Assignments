{
 "cells": [
  {
   "cell_type": "markdown",
   "metadata": {},
   "source": [
    "1.\tWrite a Python program to find words which are greater than given length k?"
   ]
  },
  {
   "cell_type": "code",
   "execution_count": 3,
   "metadata": {},
   "outputs": [
    {
     "name": "stdout",
     "output_type": "stream",
     "text": [
      "name length is greater than 3\n",
      "Rohit length is greater than 3\n"
     ]
    }
   ],
   "source": [
    "k=3\n",
    "\n",
    "String = \"My name is Rohit\"\n",
    "\n",
    "for word in String.split():\n",
    "    \n",
    "    if len(word)>3:\n",
    "        \n",
    "        print(f\"{word} length is greater than 3\")"
   ]
  },
  {
   "cell_type": "markdown",
   "metadata": {},
   "source": [
    "2.\tWrite a Python program for removing i-th character from a string?"
   ]
  },
  {
   "cell_type": "code",
   "execution_count": 5,
   "metadata": {},
   "outputs": [
    {
     "data": {
      "text/plain": [
       "'ROht'"
      ]
     },
     "execution_count": 5,
     "metadata": {},
     "output_type": "execute_result"
    }
   ],
   "source": [
    "i=3\n",
    "String = \"ROhit\"\n",
    "\n",
    "String.replace(String[i],\"\") # will remove 3 index number"
   ]
  },
  {
   "cell_type": "markdown",
   "metadata": {},
   "source": [
    "3.\tWrite a Python program to split and join a string?"
   ]
  },
  {
   "cell_type": "code",
   "execution_count": 7,
   "metadata": {},
   "outputs": [
    {
     "data": {
      "text/plain": [
       "['Python', 'is', 'good']"
      ]
     },
     "execution_count": 7,
     "metadata": {},
     "output_type": "execute_result"
    }
   ],
   "source": [
    "String = \"Python is good\"\n",
    "\n",
    "#split\n",
    "\n",
    "String.split()"
   ]
  },
  {
   "cell_type": "code",
   "execution_count": 12,
   "metadata": {},
   "outputs": [
    {
     "data": {
      "text/plain": [
       "'Python / is / good'"
      ]
     },
     "execution_count": 12,
     "metadata": {},
     "output_type": "execute_result"
    }
   ],
   "source": [
    "#join\n",
    "\n",
    "\" / \".join(String.split())"
   ]
  },
  {
   "cell_type": "markdown",
   "metadata": {},
   "source": [
    "4.\tWrite a Python to check if a given string is binary string or not?"
   ]
  },
  {
   "cell_type": "code",
   "execution_count": 18,
   "metadata": {},
   "outputs": [
    {
     "name": "stdout",
     "output_type": "stream",
     "text": [
      "No\n"
     ]
    }
   ],
   "source": [
    "def check(string) :\n",
    "    p = set(string)\n",
    "    s = {'0', '1'}\n",
    "    if s == p or p == {'0'} or p == {'1'}:\n",
    "        print(\"Yes\")\n",
    "    else :\n",
    "        print(\"No\")\n",
    "        \n",
    "check(\"Rohit\")        "
   ]
  },
  {
   "cell_type": "markdown",
   "metadata": {},
   "source": [
    "5.\tWrite a Python program to find uncommon words from two Strings?"
   ]
  },
  {
   "cell_type": "code",
   "execution_count": 32,
   "metadata": {},
   "outputs": [
    {
     "name": "stdout",
     "output_type": "stream",
     "text": [
      "most word is not availabe in string1\n",
      "used word is not availabe in string1\n",
      "language word is not availabe in string1\n",
      "very word is not availabe in string2\n",
      "good word is not availabe in string2\n"
     ]
    }
   ],
   "source": [
    "string1= \"Python is very good\"\n",
    "string2= \"Python is most used language\"\n",
    "\n",
    "string1_words = string1.split()\n",
    "string2_words = string2.split()\n",
    "\n",
    "if (len(string2_words)>=len(string1_words)):\n",
    "    \n",
    "    for word in string2_words:\n",
    "        \n",
    "        if word not in string1_words:\n",
    "            print(f\"{word} word is not availabe in string1\")\n",
    "            \n",
    "            \n",
    "if (len(string1_words)<=len(string2_words)):       \n",
    "    \n",
    "    for word in string1_words:\n",
    "        \n",
    "        if word not in string2_words:\n",
    "            print(f\"{word} word is not availabe in string2\")\n",
    "            \n",
    "    \n",
    "    "
   ]
  },
  {
   "cell_type": "markdown",
   "metadata": {},
   "source": [
    "6.\tWrite a Python to find all duplicate characters in string?"
   ]
  },
  {
   "cell_type": "code",
   "execution_count": 46,
   "metadata": {},
   "outputs": [
    {
     "name": "stdout",
     "output_type": "stream",
     "text": [
      "y is duplicate\n",
      "o is duplicate\n",
      "o is duplicate\n",
      "n is duplicate\n",
      "g is duplicate\n",
      "a is duplicate\n",
      "g is duplicate\n",
      "e is duplicate\n"
     ]
    }
   ],
   "source": [
    "string = \"Python is very good language\"\n",
    "\n",
    "string = string.replace(\" \",\"\")\n",
    "char_list = []\n",
    "\n",
    "for char in string:\n",
    "    \n",
    "    if char not in char_list:\n",
    "        char_list.append(char)\n",
    "        \n",
    "    else:\n",
    "        \n",
    "        print(f\"{char} is duplicate\")\n",
    "  \n",
    "        \n",
    "     "
   ]
  },
  {
   "cell_type": "markdown",
   "metadata": {},
   "source": [
    "7.\tWrite a Python Program to check if a string contains any special character?"
   ]
  },
  {
   "cell_type": "code",
   "execution_count": 47,
   "metadata": {},
   "outputs": [
    {
     "name": "stdout",
     "output_type": "stream",
     "text": [
      "Contains Special Characters.\n",
      "<re.Match object; span=(8, 9), match='@'>\n"
     ]
    }
   ],
   "source": [
    "import re\n",
    "string_check= re.compile('[@_!#$%^&*()<>?/\\|}{~:]')\n",
    "test_string = \"chercher@tech\"\n",
    "\n",
    "if(string_check.search(test_string) == None):\n",
    "    print(\"Contains NO Special Characters.\")\n",
    "else:\n",
    "    print(\"Contains Special Characters.\")\n",
    "    print(string_check.search(test_string)) #print the special chars"
   ]
  }
 ],
 "metadata": {
  "kernelspec": {
   "display_name": "Python 3",
   "language": "python",
   "name": "python3"
  },
  "language_info": {
   "codemirror_mode": {
    "name": "ipython",
    "version": 3
   },
   "file_extension": ".py",
   "mimetype": "text/x-python",
   "name": "python",
   "nbconvert_exporter": "python",
   "pygments_lexer": "ipython3",
   "version": "3.8.3"
  }
 },
 "nbformat": 4,
 "nbformat_minor": 4
}
